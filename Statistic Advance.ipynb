{
 "cells": [
  {
   "cell_type": "markdown",
   "id": "afac9c48-dc4f-4ccd-af7d-343df0241fdf",
   "metadata": {},
   "source": [
    "Q1. What is the Probability density function?\n",
    "Ans:-The Probability Density Function (PDF) is a fundamental concept in probability theory and statistics. It is used to describe the likelihood of a continuous random variable falling within a particular range of values. The PDF is associated with continuous probability distributions."
   ]
  },
  {
   "cell_type": "markdown",
   "id": "e0311210-ee6c-48be-abee-d0c1a6bf0c3f",
   "metadata": {},
   "source": [
    "Q2. What are the types of Probability distribution?\n",
    "\n",
    "There are several types of probability distributions, and they can be broadly categorized into two main types: discrete probability distributions and continuous probability distributions\r\n",
    "\r\n",
    "1. Discrete Probability Distribution:\r\n",
    "\r\n",
    "Probability Mass Function (PMF): Describes the probability distribution of a discrete random variable. The PMF gives the probability of each possible outome.\r\n",
    "\r\n",
    "Examples: Binomial distribution, Poisson distribution, Hypergeometric distribution.\r\n",
    "Cumulative Distribution Function (CDF): Gives the probability that a discrete random variable is less than or equal to a specifi value.\r\n",
    "\r\n",
    "Examples: Cumulative Binomial distribution, Cumulative Poisson distribution.\r\n",
    "2. Continuous Probability Disributions:\r\n",
    "\r\n",
    "Probability Density Function (PDF): Describes the probability distribution of a continuous random variable. The PDF represents the likelihood of the variable falling within a partcular range.\r\n",
    "\r\n",
    "Examples: Normal distribution, Exponential distribution, Uniform distribution.\r\n",
    "Cumulative Distribution Function (CDF): Similar to the discrete case, it gives the probability that a continuous random variable is less than or equal to aspecific value.\r\n",
    "\r\n",
    "Examples: Cumulative Normal distribution, Cumulative Exponential distribution."
   ]
  },
  {
   "cell_type": "markdown",
   "id": "800d1ab6-f66f-4b02-a39a-bc29e10b9734",
   "metadata": {},
   "source": [
    "Q3. Write a Python function to calculate the probability density function of a normal distribution with \n",
    "given mean and standard deviation at a given point"
   ]
  },
  {
   "cell_type": "code",
   "execution_count": null,
   "id": "00255514-2603-4c4b-8fd2-b74a003f1354",
   "metadata": {},
   "outputs": [],
   "source": [
    "import math\n",
    "\n",
    "def normal_pdf(x, mean, std_dev):\n",
    "    \"\"\"\n",
    "    Calculate the probability density function (PDF) of a normal distribution at a given point.\n",
    "\n",
    "    Parameters:\n",
    "    - x: The point at which to evaluate the PDF.\n",
    "    - mean: The mean of the normal distribution.\n",
    "    - std_dev: The standard deviation of the normal distribution.\n",
    "\n",
    "    Returns:\n",
    "    - pdf: The probability density function value at the given point.\n",
    "    \"\"\"\n",
    "    exponent_term = -((x - mean) ** 2) / (2 * std_dev ** 2)\n",
    "    coefficient = 1 / (math.sqrt(2 * math.pi) * std_dev)\n",
    "    pdf = coefficient * math.exp(exponent_term)\n",
    "    return pdf\n",
    "\n",
    "# Example usage:\n",
    "mean_value = 0\n",
    "std_dev_value = 1\n",
    "point_to_evaluate = 1.5\n",
    "\n",
    "result = normal_pdf(point_to_evaluate, mean_value, std_dev_value)\n",
    "print(f\"The PDF at {point_to_evaluate} is: {result}\")\n"
   ]
  },
  {
   "cell_type": "markdown",
   "id": "13ed62a6-a7eb-4926-aa5d-ee2a522d9b8e",
   "metadata": {},
   "source": [
    "Q4. What are the properties of Binomial distribution? Give two examples of events where binomial \n",
    "distribution can be applied.\n",
    "Ans:-The binomial distribution is a discrete probability distribution that models the number of successes (usually denoted as \r\n",
    "�\r\n",
    "k) in a fixed number of independent Bernoulli trials (experiments with two possible outcomes: success or failure). The key properties of the binomial distribution includ:\r\n",
    "\r\n",
    "Fixed Number of Tria(\r\n",
    "�\r\n",
    "n): The number of trials in the experiment is fixed in adance.\r\n",
    "\r\n",
    "Independent Trials: Each trial is independent of theothers.\r\n",
    "\r\n",
    "Two Possible Outcomes: Each trial has only two possible outcomes, often labeled as success (S) and falure (F).\r\n",
    "\r\n",
    "Constant Probability:cess (\r\n",
    "�\r\n",
    "p): The probabilsuccess (\r\n",
    "�\r\n",
    "p) is constantfor each trial.\r\n",
    "\r\n",
    "Discrete Distribution: The random variable representing the n  successes (\r\n",
    "�\r\n",
    "k) is discrete and takes on non-negative integer values."
   ]
  },
  {
   "cell_type": "code",
   "execution_count": null,
   "id": "f2f23aa3-d37b-439e-b5cc-4af279847613",
   "metadata": {},
   "outputs": [],
   "source": [
    "from scipy.stats import binom\n",
    "\n",
    "n_trials = 10\n",
    "probability_of_success = 0.5\n",
    "number_of_successes = 7\n",
    "\n",
    "probability = binom.pmf(number_of_successes, n_trials, probability_of_success)\n",
    "print(f\"The probability of getting exactly {number_of_successes} heads: {probability}\")\n"
   ]
  },
  {
   "cell_type": "markdown",
   "id": "cc436f6d-f617-4606-9f5b-37f6757ba1ec",
   "metadata": {},
   "source": [
    "Q5. Generate a random sample of size 1000 from a binomial distribution with probability of success 0.4 \n",
    "and plot a histogram of the results using matplotlib"
   ]
  },
  {
   "cell_type": "code",
   "execution_count": null,
   "id": "4279087a-4d0f-4e8e-9c1f-3b7692279bb9",
   "metadata": {},
   "outputs": [],
   "source": [
    "import numpy as np\n",
    "import matplotlib.pyplot as plt\n",
    "\n",
    "# Set the seed for reproducibility\n",
    "np.random.seed(42)\n",
    "\n",
    "# Generate a random sample of size 1000 from a binomial distribution\n",
    "sample_size = 1000\n",
    "probability_of_success = 0.4\n",
    "random_sample = np.random.binomial(1, probability_of_success, sample_size)\n",
    "\n",
    "# Plot a histogram\n",
    "plt.hist(random_sample, bins=[-0.5, 0.5, 1.5], edgecolor='black', alpha=0.7)\n",
    "plt.title(f\"Binomial Distribution (n=1, p={probability_of_success}) - Random Sample\")\n",
    "plt.xlabel(\"Number of Successes (0 or 1)\")\n",
    "plt.ylabel(\"Frequency\")\n",
    "plt.xticks([0, 1], ['Failure (0)', 'Success (1)'])\n",
    "plt.show()\n"
   ]
  },
  {
   "cell_type": "markdown",
   "id": "7e473e97-c837-4f5e-9b49-33337b3ab61b",
   "metadata": {},
   "source": [
    "Q6. Write a Python function to calculate the cumulative distribution function of a Poisson distribution \n",
    "with given mean at a given point"
   ]
  },
  {
   "cell_type": "code",
   "execution_count": null,
   "id": "6d9659e6-674c-4de0-b76e-62e0fa78deef",
   "metadata": {},
   "outputs": [],
   "source": [
    "import math\n",
    "\n",
    "def poisson_cdf(k, mean):\n",
    "    \"\"\"\n",
    "    Calculate the cumulative distribution function (CDF) of a Poisson distribution at a given point.\n",
    "\n",
    "    Parameters:\n",
    "    - k: The point at which to evaluate the CDF.\n",
    "    - mean: The mean of the Poisson distribution.\n",
    "\n",
    "    Returns:\n",
    "    - cdf: The cumulative distribution function value at the given point.\n",
    "    \"\"\"\n",
    "    cdf = 0\n",
    "    for i in range(k + 1):\n",
    "        cdf += math.exp(-mean) * (mean ** i) / math.factorial(i)\n",
    "    return cdf\n",
    "\n",
    "# Example usage:\n",
    "mean_value = 2.5\n",
    "point_to_evaluate = 3\n",
    "\n",
    "result = poisson_cdf(point_to_evaluate, mean_value)\n",
    "print(f\"The Poisson CDF at {point_to_evaluate} is: {result}\")\n"
   ]
  },
  {
   "cell_type": "markdown",
   "id": "74c41208-2dc9-4209-8aac-45a6800bbb6b",
   "metadata": {},
   "source": [
    "Q7. How Binomial distribution different from Poisson distribution\n",
    "Ans:-used to model the number of successes in a series of independent trials. However, they differ in their underlying assumptions and the situations in which they are applicable. Here are the key differences between the Binomial and Poisson distributions:\n",
    "\n",
    "1. Number of Trials:\n",
    "\n",
    "Binomial Distribution: Assumes a fixed number of trials where each trial can result in either success or failure.\n",
    "Poisson Distribution: Does not have a fixed number of trials. It is often used to model the number of events in a fixed interval of time or space.\n",
    "2. Nature of Trials:\n",
    "Binomial Distribution: Assumes a series of identical and independent trials with two possible outcomes (success or failure).\n",
    "Poisson Distribution: Assumes events that occur independently in time or space. The outcomes are not necessarily success or failure; instead, it models the count of events occurring in a fixed interval.\n",
    "3. Probability of Success:\n",
    "Binomial Distribution: Requires a constant probability of success for each trial.\n",
    "Poisson Distribution: Represents the rate of events occurring per unit of time or space\n",
    "4. Range of Values:\n",
    "Binomial Distribution: The number of successes can range from 0 to .\n",
    "Poisson Distribution: The count of events \n",
    "can theoretically range from 0 to infinity."
   ]
  },
  {
   "cell_type": "markdown",
   "id": "913a932d-b3d1-4673-b23e-3689fb4786b1",
   "metadata": {},
   "source": [
    "Q8. Generate a random sample of size 1000 from a Poisson distribution with mean 5 and calculate the \n",
    "sample mean and variance"
   ]
  },
  {
   "cell_type": "code",
   "execution_count": null,
   "id": "0021c3ae-ea23-4e1a-a5ae-5513eb986ebe",
   "metadata": {},
   "outputs": [],
   "source": [
    "import numpy as np\n",
    "\n",
    "# Set the seed for reproducibility\n",
    "np.random.seed(42)\n",
    "\n",
    "# Generate a random sample of size 1000 from a Poisson distribution with mean 5\n",
    "sample_size = 1000\n",
    "mean_value = 5\n",
    "random_sample = np.random.poisson(mean_value, sample_size)\n",
    "\n",
    "# Calculate sample mean and variance\n",
    "sample_mean = np.mean(random_sample)\n",
    "sample_variance = np.var(random_sample)\n",
    "\n",
    "print(f\"Sample Mean: {sample_mean}\")\n",
    "print(f\"Sample Variance: {sample_variance}\")\n"
   ]
  },
  {
   "cell_type": "markdown",
   "id": "0fc05114-33df-4f52-88ec-b9c8d9c4ea76",
   "metadata": {},
   "source": [
    "Q9. How mean and variance are related in Binomial distribution and Poisson distribution?"
   ]
  },
  {
   "cell_type": "code",
   "execution_count": null,
   "id": "4d5f7e4d-90b9-4726-94fb-d09f1f3342d7",
   "metadata": {},
   "outputs": [],
   "source": [
    "import numpy as np\n",
    "\n",
    "# Parameters for Binomial distribution\n",
    "n_trials = 10\n",
    "probability_of_success = 0.3\n",
    "\n",
    "# Mean and Variance for Binomial distribution\n",
    "mean_binomial = n_trials * probability_of_success\n",
    "variance_binomial = n_trials * probability_of_success * (1 - probability_of_success)\n",
    "\n",
    "print(f\"Binomial Distribution:\")\n",
    "print(f\"Mean: {mean_binomial}\")\n",
    "print(f\"Variance: {variance_binomial}\")\n"
   ]
  },
  {
   "cell_type": "code",
   "execution_count": null,
   "id": "885cb1e8-c871-4fd3-ad2d-69d67ed6a3de",
   "metadata": {},
   "outputs": [],
   "source": [
    "import numpy as np\n",
    "\n",
    "# Parameter for Poisson distribution\n",
    "average_rate = 5\n",
    "\n",
    "# Mean and Variance for Poisson distribution\n",
    "mean_poisson = average_rate\n",
    "variance_poisson = average_rate\n",
    "\n",
    "print(f\"Poisson Distribution:\")\n",
    "print(f\"Mean: {mean_poisson}\")\n",
    "print(f\"Variance: {variance_poisson}\")\n"
   ]
  },
  {
   "cell_type": "markdown",
   "id": "f7e791e1-0eda-4dee-9c19-0af7c41cd10f",
   "metadata": {},
   "source": [
    "Q10. In normal distribution with respect to mean position, where does the least frequent data appear?\n",
    "Ans:In a normal distribution (also known as a Gaussian distribution or bell curve), the least frequent data points appear in the tails of the distribution, farthest away from the mean. The normal distribution is symmetric, so the tails are on both sides of the mean.\n",
    "\r\n",
    "Here's how the distribution is typically divided in terms of percentage:\r\n",
    "\r\n",
    "Approximately 68% of the data falls within one standard devia\n",
    "�\r\n",
    "σ) of the mean in both directions.\r\n",
    "About 95% falls within two standard devi\n",
    "2\r\n",
    "�\r\n",
    "2σ) of the mean.\r\n",
    "Nearly 99.7% falls within three standard s (\r\n",
    "3\r\n",
    "�\r\n",
    "3σ) of the mean.\r\n",
    "Therefore, the data points that are more than three standard deviations away from the mean (in either the positive or negative direction) are considered outliers and represent the least frequent values in a normaldistribution.\r\n",
    "\r\n",
    "In a standard normal distribution (with a mean of 0 and standard deviation of 1), the values beyond +3 and -3 standard deviations are where the least frequent data points are found."
   ]
  }
 ],
 "metadata": {
  "kernelspec": {
   "display_name": "Python 3 (ipykernel)",
   "language": "python",
   "name": "python3"
  },
  "language_info": {
   "codemirror_mode": {
    "name": "ipython",
    "version": 3
   },
   "file_extension": ".py",
   "mimetype": "text/x-python",
   "name": "python",
   "nbconvert_exporter": "python",
   "pygments_lexer": "ipython3",
   "version": "3.12.0"
  }
 },
 "nbformat": 4,
 "nbformat_minor": 5
}
